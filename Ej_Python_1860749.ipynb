{
 "cells": [
  {
   "cell_type": "markdown",
   "metadata": {},
   "source": [
    "### Ejercicio 1:\n",
    "\n",
    "Realiza una variable con tu matricula y realiza una secuencia de imprimir con tu nombre y tu matricula concatenados."
   ]
  },
  {
   "cell_type": "code",
   "execution_count": null,
   "metadata": {},
   "outputs": [],
   "source": [
    "matricula=1860749\n",
    "nombre='Brandon Daniel Alsina Rodríguez'\n",
    "print(nombre,matricula)"
   ]
  },
  {
   "cell_type": "markdown",
   "metadata": {},
   "source": [
    "### Ejercicio 2:\n",
    "\n",
    "Pidiendo el input del usuario pide dos números y crea una pequeña calculadora con los operadores básicos de suma, resta, multiplicación, división, y exponente."
   ]
  },
  {
   "cell_type": "code",
   "execution_count": null,
   "metadata": {
    "scrolled": true
   },
   "outputs": [],
   "source": [
    "n1 = int(input(\"Introduce un número:\" ))\n",
    "n2 = int(input(\"Introduce otro número: \"))\n",
    "\n",
    "print (\"Suma de los numeros: \",n1+n2 )\n",
    "print(\"Resta de los numeros: \",n1-n2 )\n",
    "print(\"Multiplicacion de los numeros: \",n1*n2 )\n",
    "print(\"Division de los numeros: \",n1/n2 )\n",
    "print(\"Primer numero elevado al segundo: \",n1**n2 )"
   ]
  },
  {
   "cell_type": "markdown",
   "metadata": {},
   "source": [
    "### Ejercicio 3:\n",
    "\n",
    "Con loop while o for, realiza una lista de 10 numeros multiplos de 3, y después realiza una función de loop que sume todos los números dentro del arreglo."
   ]
  },
  {
   "cell_type": "code",
   "execution_count": null,
   "metadata": {},
   "outputs": [],
   "source": [
    "i=1\n",
    "c=0\n",
    "suma=0\n",
    "while i<=10:\n",
    "    c=c+3\n",
    "    suma=suma+c\n",
    "    print(c)\n",
    "    i=i+1\n",
    "print('La suma de los numeros es igual a: ',suma)"
   ]
  },
  {
   "cell_type": "markdown",
   "metadata": {},
   "source": [
    "### Ejercicio 4:\n",
    "\n",
    "* Con una función de if else, revisar si un número es par o es impar."
   ]
  },
  {
   "cell_type": "code",
   "execution_count": null,
   "metadata": {},
   "outputs": [],
   "source": [
    "n = int(input(\"Introduce un número:\" ))\n",
    "if n%2==0:\n",
    "    print('Su numero es par')\n",
    "else:\n",
    "    print('Su numero es impar')"
   ]
  },
  {
   "cell_type": "markdown",
   "metadata": {},
   "source": [
    "* Con una función de if else, revisar si un número es primo o no."
   ]
  },
  {
   "cell_type": "code",
   "execution_count": null,
   "metadata": {},
   "outputs": [],
   "source": [
    "n = int(input(\"Introduce un número:\" ))\n",
    "c=0\n",
    "for i in range(2,n):\n",
    "    if n%i==0:\n",
    "        c=c+1\n",
    "\n",
    "if c==0:\n",
    "    print('Su numero es primo')\n",
    "else:\n",
    "    print('Su numero no es primo')"
   ]
  },
  {
   "cell_type": "markdown",
   "metadata": {},
   "source": [
    "### Ejercicio 5:\n",
    "\n",
    "Utilizando diferentes clases en python, crea una calculadora con los operadores básicos de suma, resta, multiplicación, división, y exponente."
   ]
  },
  {
   "cell_type": "code",
   "execution_count": null,
   "metadata": {},
   "outputs": [],
   "source": [
    "op=1\n",
    "print('Calculadora Virtual')\n",
    "while op!=6:\n",
    "    op=int(input('Ingresa una opción:\\n1. Suma\\n2. Resta\\n3. Multiplicación\\n4. División\\n5. Potencia\\n6. Salir\\n\\nOpcion:'))\n",
    "    while op<1 or op>6:\n",
    "        op=int(input(\"Error, ingrese un número correcto: \"))\n",
    "    if op==1:\n",
    "        a=float(input(\"Ingresa un número: \"))\n",
    "        b=float(input(\"Ingresa el número a sumar: \"))\n",
    "        r=a+b\n",
    "        print(\"Suma de los números: \",r)\n",
    "        a=float(input(\"Ingresa un número: \"))\n",
    "    if op==2:\n",
    "        b=float(input(\"Ingresa el número a restar: \"))\n",
    "        r=a-b\n",
    "        print(\"Resta de los números: \",r)\n",
    "    if op==3:\n",
    "        a=float(input(\"Ingresa un número: \"))\n",
    "        b=float(input(\"Ingresa otro número: \"))\n",
    "        r=a*b\n",
    "        print(\"Producto de los números: \",r)\n",
    "    if op==4:\n",
    "        a=float(input(\"Ingresa el numerador: \"))\n",
    "        b=float(input(\"Ingresa el denominador: \"))\n",
    "        r=a/b\n",
    "        print(\"Cociente de los números: \",r)\n",
    "    if op==5:\n",
    "        a=float(input(\"Ingresa un número: \"))\n",
    "        b=float(input(\"Ingresa la potencia deseada: \"))\n",
    "        r=a**b\n",
    "        print('Número elevado al otro:',r)\n",
    "print('Vuelva pronto')"
   ]
  },
  {
   "cell_type": "markdown",
   "metadata": {},
   "source": [
    "## Ejercicios con estructuras básicas de python."
   ]
  },
  {
   "cell_type": "markdown",
   "metadata": {},
   "source": [
    "#### Tuplas "
   ]
  },
  {
   "cell_type": "markdown",
   "metadata": {},
   "source": [
    "* Crear una variable flotante, integer, boleana y compleja e imprimir el tipo de variable que es.\n",
    "* Crear una tupla con valores enteros imprimir el primer y ultimo valor.\n",
    "* Añadir 3 valores de string a la tupla.\n",
    "* Verificar si una variable existe dentro de la tupla"
   ]
  },
  {
   "cell_type": "code",
   "execution_count": null,
   "metadata": {},
   "outputs": [],
   "source": [
    "nf=2.345\n",
    "ni=69\n",
    "b=False\n",
    "c=39j\n",
    "print('La variable',nf,'es de tipo',type(nf))\n",
    "print('La variable',ni,'es de tipo',type(ni))\n",
    "print('La variable',b,'es de tipo',type(b))\n",
    "print('La variable',c,'es de tipo',type(c))"
   ]
  },
  {
   "cell_type": "code",
   "execution_count": null,
   "metadata": {},
   "outputs": [],
   "source": [
    "t=(35,2,678,9)\n",
    "l=len(t)\n",
    "print('Primer Valor:',t[0])\n",
    "print('Ultimo valor:',t[l-1])"
   ]
  },
  {
   "cell_type": "code",
   "execution_count": null,
   "metadata": {},
   "outputs": [],
   "source": [
    "t=(35,2,678,9,'si','no','tal vez')\n",
    "va=input('Buscar variable:')\n",
    "if va in t:\n",
    "    print('La variable esta en la tupla')\n",
    "else:\n",
    "    print('La variable no está en la tupla')"
   ]
  },
  {
   "cell_type": "markdown",
   "metadata": {},
   "source": [
    "#### Listas"
   ]
  },
  {
   "cell_type": "markdown",
   "metadata": {},
   "source": [
    "* Crear una lista con 40 elementos aleatorios enteros.\n",
    "\n",
    "* Con una funcion (def) crear dos listas nuevas a partir de la lista creada por numeros aleatorios, en la cual en una esten los elementos pares, y en la otra los elementos impares.\n",
    "\n",
    "* Crear dos variables con la longitud de ambas listas nuevas e imprimir las variables.\n",
    "\n",
    "* Ordenar los elementos de la lista par de mayor a menor, y los de la lista impar de menor a mayor.\n",
    "\n",
    "* Utilizar al menos cuatro de las funciones de listas en python en la lista original de 40 elementos."
   ]
  },
  {
   "cell_type": "code",
   "execution_count": null,
   "metadata": {},
   "outputs": [],
   "source": [
    "import random\n",
    "def par(l):\n",
    "    par=list()\n",
    "    for a in l:\n",
    "        if a%2==0:\n",
    "            par.append(a)\n",
    "    return par\n",
    "\n",
    "def impar(l):\n",
    "    impar=list()\n",
    "    for a in l:\n",
    "        if a%2!=0:\n",
    "            impar.append(a)\n",
    "    return impar\n",
    "\n",
    "la=list()\n",
    "lb=list()\n",
    "A=range(0,100)\n",
    "l=random.sample(A,40)\n",
    "print(\"Lista:\",l)\n",
    "la=par(l)\n",
    "lb=impar(l)\n",
    "print(\"\\nNumeros pares de la lista: \",la,\"\\n\\nNumeros impares de la lista: \",lb)\n",
    "lp=len(l1)\n",
    "li=len(l2)\n",
    "print(\"\\nCantidad de pares: \",lp,\"\\n\\nCantidad de impares:\",li)\n",
    "lb.sort()\n",
    "laord=sorted(la,reverse=True) \n",
    "la=laord\n",
    "print(\"\\nNumeros pares de mayor a menos: \",la)\n",
    "print(\"\\nNumeros impares de menor a mayor: \",lb)\n",
    "\n",
    "mini=min(l)\n",
    "maxi=max(l)\n",
    "suma=sum(l)\n",
    "prom=suma/40\n",
    "l.sort()\n",
    "\n",
    "print(\"\\nSuma de los numeros: \",suma)\n",
    "print(\"\\nPromedio de los numeros: \",prom)\n",
    "print(\"\\nNumero menor de la lista: \",mini)\n",
    "print(\"\\nNumero maypr de la lista: \",maxi)"
   ]
  },
  {
   "cell_type": "markdown",
   "metadata": {},
   "source": [
    "#### Diccionarios"
   ]
  },
  {
   "cell_type": "markdown",
   "metadata": {},
   "source": [
    "* Crear un diccionario de 6 personas que conozcas con su primer nombre y su edad.\n",
    "\n",
    "* Crear una lista con los valores de la edad y reacomodar la lista de menor a mayor valor.\n",
    "\n",
    "* Usando el diccionario y un loop, imprimir solo los nombres.\n",
    "\n",
    "* Añadir dos personas nuevas a tu diccionario, incluyendo edad."
   ]
  },
  {
   "cell_type": "code",
   "execution_count": null,
   "metadata": {},
   "outputs": [],
   "source": [
    "lista={'Sebas':20,'Ceviche':19,'Barbosa':19,'Alsina':19,'Cepillo':19,'Andre':20}\n",
    "print(\"Lista de personas con edades: \",lista)\n",
    "ages=list()\n",
    "for ed in lista:\n",
    "    ages.append(lista[ed])\n",
    "ages.sort()\n",
    "print(\"\\nLista de edades de menor a mayor\",ages)\n",
    "print(\"\\nLista de nombres: \")\n",
    "nombres=lista.keys() \n",
    "for nombre in nombres:\n",
    "    print(nombre)\n",
    "lista['El panda']=22\n",
    "lista['El duende']=20\n",
    "print(\"\\nLista actualizada: \",lista)"
   ]
  },
  {
   "cell_type": "markdown",
   "metadata": {},
   "source": [
    "#### Sets"
   ]
  },
  {
   "cell_type": "markdown",
   "metadata": {},
   "source": [
    "* Crea un set con 100 numeros aleatorios enteros del 1 al 25.\n",
    "\n",
    "* Comprueba la longitud de tu set.\n",
    "\n",
    "* Crea una lista de 5 numeros aleatorios del 1 al 10 y comprueba si cada valor aparece en el set inicial."
   ]
  },
  {
   "cell_type": "code",
   "execution_count": null,
   "metadata": {},
   "outputs": [],
   "source": [
    "A=range(0,100)\n",
    "l=random.sample(A,100)\n",
    "print(\"Lista:\",l)\n",
    "\n",
    "count=len(l)\n",
    "print('\\nLongitud del set',count)\n",
    "\n",
    "A=range(1,10)\n",
    "la=random.sample(A,5)\n",
    "print(\"\\nLista:\",la)\n",
    "\n",
    "for n in la:\n",
    "    if n in la:\n",
    "        print(n,'Esta en la lista')\n",
    "    else:\n",
    "        print(n,'No esta en la lista')"
   ]
  }
 ],
 "metadata": {
  "kernelspec": {
   "display_name": "Python 3",
   "language": "python",
   "name": "python3"
  },
  "language_info": {
   "codemirror_mode": {
    "name": "ipython",
    "version": 3
   },
   "file_extension": ".py",
   "mimetype": "text/x-python",
   "name": "python",
   "nbconvert_exporter": "python",
   "pygments_lexer": "ipython3",
   "version": "3.8.5"
  }
 },
 "nbformat": 4,
 "nbformat_minor": 4
}
